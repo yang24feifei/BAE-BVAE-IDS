{
 "cells": [
  {
   "cell_type": "code",
   "execution_count": 2,
   "metadata": {
    "executionInfo": {
     "elapsed": 13177,
     "status": "ok",
     "timestamp": 1649346586703,
     "user": {
      "displayName": "Tengfei Yang",
      "userId": "14889327633304799674"
     },
     "user_tz": -60
    },
    "id": "CVkR0027m-fH"
   },
   "outputs": [],
   "source": [
    "from tensorflow.python.util.tf_export import InvalidSymbolNameError\n",
    "import tensorflow as tf\n",
    "tf.compat.v1.disable_eager_execution()\n",
    "import numpy as np\n",
    "import pandas as pd\n",
    "import time\n",
    "from pathlib import Path\n",
    "from sklearn import metrics\n",
    "import os\n",
    "import tensorflow_probability as tfp"
   ]
  },
  {
   "cell_type": "code",
   "execution_count": 3,
   "metadata": {
    "executionInfo": {
     "elapsed": 572,
     "status": "ok",
     "timestamp": 1649346600179,
     "user": {
      "displayName": "Tengfei Yang",
      "userId": "14889327633304799674"
     },
     "user_tz": -60
    },
    "id": "BJLRHD7N88FN"
   },
   "outputs": [],
   "source": [
    "# auto search files in specific file path\n",
    "dicnpy ='../dataUNSW/' #获取当前路径  \n",
    "for root,dirs,files in os.walk(dicnpy):  #遍历统计\n",
    "\tfor each in files: \n",
    "\t\t_,filesuffix= os.path.splitext(each)\n",
    "\t\tif filesuffix=='.npy' or filesuffix=='.pdf':\n",
    "\t\t\tos.remove(os.path.join(root, each))\n",
    "\t\t#print(dicnpy+each)"
   ]
  },
  {
   "cell_type": "markdown",
   "metadata": {
    "id": "eza7Ued_DgAp",
    "jp-MarkdownHeadingCollapsed": true,
    "tags": []
   },
   "source": [
    "# Data preprocessing; Custom tokens\n",
    "manualy transform non-numeric colums to numeric columes, including columes of 'proto','service','state','attack_cat'. Because in this dataset, the options of protocol type is different between train set to test set, so that the one-hot embedding could not be used.\n",
    "<br>\n",
    "in this way, each distinct value is set to a integer, it is not exactly right for the outcome as the relationship of values is changed."
   ]
  },
  {
   "cell_type": "code",
   "execution_count": 4,
   "metadata": {
    "executionInfo": {
     "elapsed": 597,
     "status": "ok",
     "timestamp": 1649346602814,
     "user": {
      "displayName": "Tengfei Yang",
      "userId": "14889327633304799674"
     },
     "user_tz": -60
    },
    "id": "g5Y7uCGxmwQg"
   },
   "outputs": [],
   "source": [
    "# prepare columns headers\n",
    "features=pd.read_csv('../Datasets/NUSW-NB15_features.csv',usecols=[0,1],header=0,encoding='cp1252')\n",
    "strheader=[ i for i in features.iloc[:,1]]\n"
   ]
  },
  {
   "cell_type": "code",
   "execution_count": 5,
   "metadata": {
    "executionInfo": {
     "elapsed": 395,
     "status": "ok",
     "timestamp": 1649346612556,
     "user": {
      "displayName": "Tengfei Yang",
      "userId": "14889327633304799674"
     },
     "user_tz": -60
    },
    "id": "lYOQarNFHKbJ"
   },
   "outputs": [],
   "source": [
    "'''\n",
    "split data into group including normal, each type of attack.\n",
    "capture normal group with numeric type and append save in npy file. the target of transferting attack_cat to numeric is for multi labels classifciation\n",
    "'''\n",
    "def savegroup(data_num):\n",
    "    normal_train=data_num[data_num.attack_cat==\"Normal\"].copy()\n",
    "    normal_train.loc[normal_train.attack_cat==\"Normal\",\"attack_cat\"]=0\n",
    "    p=Path(dicnpy+'Normal.npy')\n",
    "    if p.exists():\n",
    "        old=np.load(dicnpy+'Normal.npy', allow_pickle=True)\n",
    "        new_record=np.append(old,normal_train,0)\n",
    "        print(new_record.shape)\n",
    "        np.save(dicnpy+'Normal.npy',new_record)\n",
    "    else:\n",
    "        np.save(dicnpy+'Normal.npy',normal_train)\n",
    "\n",
    "    # capture each attack group in numeric type, save in the dic of train_group.\n",
    "    #train_group={\"Normal\":normal_train}\n",
    "    group_types=data_num[\"attack_cat\"].value_counts()\n",
    "    print(group_types)\n",
    "    ite=1\n",
    "    for ind, ptype in group_types.items():\n",
    "        single_group=data_num[data_num.attack_cat==ind].copy()  \n",
    "        if ind.strip()!='Normal':\n",
    "            single_group.loc[single_group.attack_cat==ind, \"attack_cat\"]=ite\n",
    "            # save in npy file\n",
    "            p=Path(dicnpy+ind.strip()+'.npy')\n",
    "            if p.exists():\n",
    "                old=np.load(dicnpy+ind.strip()+'.npy', allow_pickle=True)\n",
    "                print(old.shape)\n",
    "                new_record=np.append(old,single_group.sample(frac=1),0)\n",
    "                np.save(dicnpy+ind.strip()+'.npy',new_record)\n",
    "            else:\n",
    "                np.save(dicnpy+ind.strip()+'.npy',single_group.sample(frac=1))\n",
    "        else:\n",
    "            continue         \n",
    "        #train_group[ind]=temp.sample(frac=1)\n",
    "        ite=ite+1\n",
    "\n",
    "#print((train_group['Generic'].shape) )"
   ]
  },
  {
   "cell_type": "code",
   "execution_count": 6,
   "metadata": {
    "executionInfo": {
     "elapsed": 6,
     "status": "ok",
     "timestamp": 1649346628756,
     "user": {
      "displayName": "Tengfei Yang",
      "userId": "14889327633304799674"
     },
     "user_tz": -60
    },
    "id": "O730VAKQEadB"
   },
   "outputs": [],
   "source": [
    "# there are many 0x data in 'sport' and 'dsport' and other columns, so tranfer them to numeric.\n",
    "def str2num(inivalue):\n",
    "    if isinstance(inivalue,int):\n",
    "        return inivalue\n",
    "    elif isinstance(inivalue,str):\n",
    "        if inivalue.isnumeric():\n",
    "            return int(inivalue)\n",
    "        else:\n",
    "            if inivalue.startswith('0x',0):\n",
    "                return int(inivalue,16)\n",
    "            elif inivalue=='-' or inivalue.strip()=='':\n",
    "                return 0\n",
    "            else:\n",
    "                print(inivalue)\n",
    "                return 0\n",
    "    \n",
    "    else:\n",
    "        print(inivalue)\n",
    "        return 0"
   ]
  },
  {
   "cell_type": "code",
   "execution_count": 7,
   "metadata": {
    "id": "qlX5bdu_PijF"
   },
   "outputs": [
    {
     "name": "stdout",
     "output_type": "stream",
     "text": [
      "../venv/Datasets/UNSW-NB15_1.csv\n"
     ]
    },
    {
     "name": "stderr",
     "output_type": "stream",
     "text": [
      "/tmp/ipykernel_2848559/327677390.py:14: DtypeWarning: Columns (1,3,47) have mixed types. Specify dtype option on import or set low_memory=False.\n",
      "  train_data=pd.read_csv(filedic, header=None,skip_blank_lines='true')  #these 4 CSV files have not header line.\n"
     ]
    },
    {
     "name": "stdout",
     "output_type": "stream",
     "text": [
      "16\n",
      "Normal            677786\n",
      "Generic             7522\n",
      "Exploits            5409\n",
      " Fuzzers            5051\n",
      "Reconnaissance      1759\n",
      "DoS                 1167\n",
      "Backdoors            534\n",
      "Analysis             526\n",
      "Shellcode            223\n",
      "Worms                 24\n",
      "Name: attack_cat, dtype: int64\n",
      "../venv/Datasets/UNSW-NB15_2.csv\n"
     ]
    },
    {
     "name": "stderr",
     "output_type": "stream",
     "text": [
      "/tmp/ipykernel_2848559/327677390.py:14: DtypeWarning: Columns (3,39,47) have mixed types. Specify dtype option on import or set low_memory=False.\n",
      "  train_data=pd.read_csv(filedic, header=None,skip_blank_lines='true')  #these 4 CSV files have not header line.\n"
     ]
    },
    {
     "name": "stdout",
     "output_type": "stream",
     "text": [
      "16\n",
      "(1325038, 49)\n",
      "Normal             647252\n",
      "Generic             27883\n",
      "Exploits            11103\n",
      " Fuzzers             4668\n",
      "DoS                  4637\n",
      " Reconnaissance      3116\n",
      "Analysis              608\n",
      "Backdoors             370\n",
      " Shellcode            324\n",
      "Worms                  40\n",
      "Name: attack_cat, dtype: int64\n",
      "(7522, 49)\n",
      "(5409, 49)\n",
      "(5051, 49)\n",
      "(1167, 49)\n",
      "(1759, 49)\n",
      "(526, 49)\n",
      "(534, 49)\n",
      "(223, 49)\n",
      "(24, 49)\n",
      "../venv/Datasets/UNSW-NB15_3.csv\n",
      "16\n",
      "(1867614, 49)\n",
      "Normal             542576\n",
      "Generic            118198\n",
      "Exploits            16574\n",
      " Fuzzers             9137\n",
      "DoS                  5642\n",
      " Reconnaissance      5582\n",
      "Analysis              873\n",
      "Backdoors             759\n",
      " Shellcode            593\n",
      "Worms                  67\n",
      "Name: attack_cat, dtype: int64\n",
      "(35405, 49)\n",
      "(16512, 49)\n",
      "(9719, 49)\n",
      "(5804, 49)\n",
      "(4875, 49)\n",
      "(1134, 49)\n",
      "(904, 49)\n",
      "(547, 49)\n",
      "(64, 49)\n",
      "../venv/Datasets/UNSW-NB15_4.csv\n",
      "16\n",
      "(2218764, 49)\n",
      "Normal             351150\n",
      "Generic             61878\n",
      "Exploits            11439\n",
      " Fuzzers             5390\n",
      "DoS                  4907\n",
      " Reconnaissance      3530\n",
      "Analysis              670\n",
      "Backdoors             666\n",
      " Shellcode            371\n",
      "Worms                  43\n",
      "Name: attack_cat, dtype: int64\n",
      "(153603, 49)\n",
      "(33086, 49)\n",
      "(18856, 49)\n",
      "(11446, 49)\n",
      "(10457, 49)\n",
      "(2007, 49)\n",
      "(1663, 49)\n",
      "(1140, 49)\n",
      "(131, 49)\n",
      "(440044, 49)\n",
      "\n",
      "Time to read: 254.7729 seconds.\n"
     ]
    }
   ],
   "source": [
    "# start reading data\n",
    "# read 4 csv files, 559M\n",
    "files=[\"UNSW-NB15_1.csv\",\"UNSW-NB15_2.csv\",\"UNSW-NB15_3.csv\",\"UNSW-NB15_4.csv\"]\n",
    "dicdata='../Datasets/'\n",
    "dicnpy='../dataUNSW/'\n",
    "ip2int=lambda x:sum([256**j*int(i) for j,i in enumerate(x.split('.')[::-1])])\n",
    "#int2ip= lambda x: '.'.join([str(x/(256**i)%256) for i in range(3,-1,-1)])\n",
    "state_types={1:\"no\", 2:\"URN\", 3:\"ACC\", 4:\"CLO\", 5:\"CON\", 6:\"ECO\", 7:\"ECR\", 8:\"URH\", 9:\"INT\", 10:\"MAS\", 11:\"PAR\", 12:\"REQ\",  13:\"TST\", 14:\"TXD\", 15:\"FIN\", 16:\"RST\"} \n",
    "start=time.time()\n",
    "\n",
    "for i in range(0, len(files)):\n",
    "    filedic=dicdata+files[i]\n",
    "    print(filedic)\n",
    "    train_data=pd.read_csv(filedic, header=None,skip_blank_lines='true')  #these 4 CSV files have not header line.\n",
    "    train_data.columns=strheader\n",
    "    train_data['attack_cat'].fillna('Normal',inplace=True)\n",
    "    train_data.fillna(0,inplace=True)\n",
    "    train_num=train_data.copy()\n",
    "\n",
    "    # numeric non-numeric columns with the order. only the column of \"state\"       \n",
    "    print(len(state_types))\n",
    "    for inde in range(1, len(state_types)+1):\n",
    "        train_num.loc[train_num[\"state\"]==str(state_types[inde]), \"state\"]=inde\n",
    "\n",
    "    # numeric non-numeric columns except the column of attack_cat. \n",
    "    str_columns=[\"service\",\"proto\"] #,\"attack_cat\"]    \n",
    "    for sc in str_columns:\n",
    "        items_set=train_num[sc].value_counts()\n",
    "        temp=1\n",
    "        for ind, ptype in items_set.items():\n",
    "            train_num.loc[train_num[sc]==ind, sc]=temp\n",
    "            temp=temp+1\n",
    "\n",
    "    # transfer IP address to numeric.\n",
    "    if type(train_num.at[3,'srcip'])!=np.int64 :\n",
    "        train_num['srcip']=train_num['srcip'].apply(ip2int)\n",
    "        train_num['dstip']=train_num['dstip'].apply(ip2int)\n",
    "\n",
    "    # check out if columns be the numeric type. and transfer them. must be the end of  processing.\n",
    "    for i in strheader[:-2]:\n",
    "        try:\n",
    "            np.asarray(train_num[i]).astype(np.float32)\n",
    "        except ValueError:\n",
    "            numseries=[]\n",
    "            for ind ,cont in train_num.iterrows():\n",
    "                numseries.append(str2num(cont[i]))\n",
    "            train_num[i]=numseries\n",
    "\n",
    "    # save in npy file according attack types.\n",
    "    savegroup(train_num)\n",
    "\n",
    "    #break\n",
    "print(train_data.shape)\n",
    "end=time.time()\n",
    "print(f\"\\nTime to read: {round(end-start,5)} seconds.\")"
   ]
  }
 ],
 "metadata": {
  "colab": {
   "authorship_tag": "ABX9TyNgVQiO782hlPPsL0EBgLlM",
   "collapsed_sections": [
    "eza7Ued_DgAp"
   ],
   "mount_file_id": "1PnWy_L_wm3q_wRqTG49RMKAcQ-zfL4Uu",
   "name": "VAE-AD-UNSW-paper-v4.ipynb",
   "provenance": [
    {
     "file_id": "18VEIlHB9zdYZxKnZhz3MjmZXnDPpCKu6",
     "timestamp": 1648034299947
    }
   ]
  },
  "kernelspec": {
   "display_name": "Python 3 (ipykernel)",
   "language": "python",
   "name": "python3"
  },
  "language_info": {
   "codemirror_mode": {
    "name": "ipython",
    "version": 3
   },
   "file_extension": ".py",
   "mimetype": "text/x-python",
   "name": "python",
   "nbconvert_exporter": "python",
   "pygments_lexer": "ipython3",
   "version": "3.9.13"
  }
 },
 "nbformat": 4,
 "nbformat_minor": 4
}
