{
 "cells": [
  {
   "cell_type": "code",
   "execution_count": 1,
   "id": "24526d3e-b133-411c-99b1-ea52ee09b8b7",
   "metadata": {},
   "outputs": [],
   "source": [
    "import tensorflow as tf\n",
    "tf.compat.v1.enable_eager_execution()\n",
    "import numpy as np\n",
    "import pandas as pd\n",
    "from pathlib import Path\n",
    "import os"
   ]
  },
  {
   "cell_type": "code",
   "execution_count": 15,
   "id": "602bd030-77cf-41e1-869d-d1290caa8fe9",
   "metadata": {
    "id": "H0ZgDQarWHcz"
   },
   "outputs": [],
   "source": [
    "dicnpy='../dataCIC2017/'\n",
    "dicdata='../Datasets/CIC2017/'\n",
    "\n",
    "groupnames=[\"Tuesday\",\"Wednesday\",\"Thursday\",\"Friday\"]#\"Monday\",\n",
    "attack_types={0:\"BENIGN\",1:\"FTP-Patator\", 2:\"SSH-Patator\", 3:\"DoS GoldenEye\", 4:\"DoS Hulk\", 5:\"DoS Slowhttptest\", 6:\"DoS slowloris\", 7:\"Heartbleed\", \n",
    "                  8:\"Web Attack � Brute Force\", 9:\"Web Attack � XSS\", 10:\"Web Attack � Sql Injection\", 11:\"Infiltration\",12:\"Bot\", 13:\"DDoS\", 14:\"PortScan\"} # \"Web Attack ?Brute Force\"\n",
    "    # Web Attack ?Brute Force, Web Attack ?XSS, Web Attack ?Sql Injection "
   ]
  },
  {
   "cell_type": "markdown",
   "id": "16261715-db9b-47d5-9665-99b29111df38",
   "metadata": {
    "jp-MarkdownHeadingCollapsed": true,
    "tags": []
   },
   "source": [
    "# Data preprocessing"
   ]
  },
  {
   "cell_type": "code",
   "execution_count": 16,
   "id": "6cb922ea-6963-4b30-b648-00c1849d4d86",
   "metadata": {},
   "outputs": [],
   "source": [
    "# there are many 0x data in 'sport' and 'dsport' and other columns, so tranfer them to numeric.\n",
    "def str2num(inivalue):\n",
    "    if isinstance(inivalue,int):\n",
    "        return inivalue\n",
    "    elif isinstance(inivalue,str):\n",
    "        if inivalue.isnumeric():\n",
    "            return int(inivalue)\n",
    "        else:\n",
    "            if inivalue.startswith('0x',0):\n",
    "                return int(inivalue,16)\n",
    "            elif inivalue=='-' or inivalue.strip()=='':\n",
    "                return 0\n",
    "            else:\n",
    "                print(inivalue)\n",
    "                return 0\n",
    "    \n",
    "    else:\n",
    "        print(inivalue)\n",
    "        return 0"
   ]
  },
  {
   "cell_type": "code",
   "execution_count": 17,
   "id": "96eb3182-8d28-4ab4-ba69-2c3affc8d2ff",
   "metadata": {
    "executionInfo": {
     "elapsed": 395,
     "status": "ok",
     "timestamp": 1649346612556,
     "user": {
      "displayName": "Tengfei Yang",
      "userId": "14889327633304799674"
     },
     "user_tz": -60
    },
    "id": "lYOQarNFHKbJ"
   },
   "outputs": [],
   "source": [
    "'''\n",
    "split data into group including benign, each type of attack.\n",
    "capture benign group with numeric type and append save in npy file.\n",
    "the target of transferting attack_cat to numeric is for multi labels classifciation\n",
    "'''\n",
    "def savegroup(data_num, gname):\n",
    "    # capture each attack group in numeric type, save in the dic of train_group.\n",
    "    group_types=data_num[\" Label\"].value_counts()\n",
    "    print(group_types)\n",
    "    for ind, ptype in group_types.items():\n",
    "        single_group=data_num[data_num[\" Label\"]==ind].copy() \n",
    "            # save in npy file\n",
    "        p=Path(dicnpy+gname+\"-\"+str(ind)+'.npy')\n",
    "        if p.exists():\n",
    "            os.remove(p)\n",
    "        np.save(dicnpy+gname+\"-\"+str(ind)+'.npy',single_group.sample(frac=1))\n",
    "              "
   ]
  },
  {
   "cell_type": "code",
   "execution_count": null,
   "id": "55d645d2-ece6-4e4f-a7b6-d60033fbf578",
   "metadata": {},
   "outputs": [],
   "source": [
    "# start reading data and prepare npy data for training \n",
    "# read 8 csv files\n",
    "files=[\"Friday-WorkingHours-Afternoon-DDos.pcap_ISCX.csv\",\"Friday-WorkingHours-Afternoon-PortScan.pcap_ISCX.csv\",\"Friday-WorkingHours-Morning.pcap_ISCX.csv\",\n",
    "       \"Monday-WorkingHours.pcap_ISCX.csv\", \"Thursday-WorkingHours-Afternoon-Infilteration.pcap_ISCX.csv\", \"Thursday-WorkingHours-Morning-WebAttacks.pcap_ISCX.csv\",\"Tuesday-WorkingHours.pcap_ISCX.csv\",\"Wednesday-workingHours.pcap_ISCX.csv\"]\n",
    "for i in range(0, len(files)):\n",
    "    filedic=dicdata+files[i]\n",
    "    print(filedic)\n",
    "    groupname=files[i].split(\"-\",1)\n",
    "    train_num=pd.read_csv(filedic, header=0,skip_blank_lines='true')  #these 4 CSV files have not header line.    \n",
    "    train_num.fillna(0,inplace=True)\n",
    "    \n",
    "    for inde in range(0, len(attack_types)):\n",
    "        train_num.loc[train_num[\" Label\"]==str(attack_types[inde]), \" Label\"]=inde\n",
    "        \n",
    "    # check out if columns be the numeric type. and transfer them. must be the end of  processing.\n",
    "    for i in train_num.columns:\n",
    "        try:\n",
    "            np.asarray(train_num[i]).astype(np.float32)\n",
    "        except ValueError:\n",
    "            numseries=[]\n",
    "            for ind ,cont in train_num.iterrows():\n",
    "                numseries.append(str2num(cont[i]))\n",
    "            train_num[i]=numseries\n",
    "\n",
    "    # save in npy file according attack types.\n",
    "    savegroup(train_num, groupname[0] )\n",
    "\n",
    "    #break\n",
    "print(train_num.shape)\n",
    "print(groupname)"
   ]
  },
  {
   "cell_type": "code",
   "execution_count": 19,
   "id": "cbd9c46c-eb24-4d6e-ba00-67ac6992a8db",
   "metadata": {},
   "outputs": [],
   "source": [
    "# prepare the npy data for testing; each day as a group including benign and attack data.\n",
    "ptestbenign=Path(dicnpy+\"test-0.npy\") # the dictionary of all benign data from Tuesday to Friday\n",
    "pallattack=Path(dicnpy+\"15.npy\") # the dictionary of all attack data\n",
    "if ptestbenign.exists():\n",
    "    os.remove(ptestbenign)\n",
    "if pallattack.exists():\n",
    "    os.remove(pallattack)\n",
    "\n",
    "for gitem in groupnames:\n",
    "    pday=Path(dicnpy+gitem+'.npy')\n",
    "    if pday.exists():\n",
    "        os.remove(pday)\n",
    "\n",
    "    for root,dirs,files in os.walk(dicnpy):\n",
    "        for each in files:\n",
    "            if each.find(\"-\")>0:    \n",
    "                namelist=each.split(\"-\",1)\n",
    "                if gitem==namelist[0]:\n",
    "                    # save data of each day in a single npy file\n",
    "                    if pday.exists():\n",
    "                        cont=np.load(dicnpy+each,allow_pickle=True)\n",
    "                        origcont=np.load(pday,allow_pickle=True)\n",
    "                        newcont=np.concatenate([origcont,cont],axis=0) \n",
    "                    else:\n",
    "                        newcont=np.load(dicnpy+each,allow_pickle=True)\n",
    "                    np.save(pday,newcont)\n",
    "                    # save the benign data from Tuesday to Friday to the file of test-0.npy\n",
    "                    if namelist[1].split(\".\",1)[0]==str(0):\n",
    "                        if ptestbenign.exists():\n",
    "                            cont=np.load(dicnpy+each,allow_pickle=True)\n",
    "                            origcont=np.load(ptestbenign,allow_pickle=True)\n",
    "                            newcont=np.concatenate([origcont,cont],axis=0) \n",
    "                        else:\n",
    "                            newcont=np.load(dicnpy+each,allow_pickle=True)\n",
    "                        np.save(ptestbenign,newcont)\n",
    "                    # save all attack data to the file of 15.npy\n",
    "                    else:\n",
    "                        if pallattack.exists():\n",
    "                            cont=np.load(dicnpy+each,allow_pickle=True)\n",
    "                            origcont=np.load(pallattack,allow_pickle=True)\n",
    "                            newcont=np.concatenate([origcont,cont],axis=0) \n",
    "                        else:\n",
    "                            newcont=np.load(dicnpy+each,allow_pickle=True)\n",
    "                        np.save(pallattack,newcont)"
   ]
  },
  {
   "cell_type": "code",
   "execution_count": null,
   "id": "cf210284-2501-4a77-8182-a496692a53cd",
   "metadata": {},
   "outputs": [],
   "source": [
    "# grouping data of each attack data and all benign data  from Tuesday to Friday\n",
    "# following the first metrics in the paper\n",
    "ptestbenign=Path(dicnpy+\"test-0.npy\") # the dictionary of all benign data from Tuesday to Friday\n",
    "              \n",
    "for attackindex in range(1,15):\n",
    "    for root,dirs,files in os.walk(dicnpy):\n",
    "        for each in files:\n",
    "            if each.find(\"-\")>0:  \n",
    "                namelist=each.split(\"-\",1)\n",
    "                attackfile=namelist[1].split(\".\",1)\n",
    "                if attackindex==int(attackfile[0]):\n",
    "                    print(attackindex)\n",
    "                    cont=np.load(dicnpy+each,allow_pickle=True)\n",
    "                    origcont=np.load(ptestbenign,allow_pickle=True)\n",
    "                    newcont=np.concatenate([origcont,cont],axis=0) \n",
    "                    print(newcont.shape)\n",
    "                    p=Path(dicnpy+\"test-\"+str(attackindex)+'.npy')\n",
    "                    if p.exists():\n",
    "                        os.remove(p)\n",
    "                    np.save(dicnpy+\"test-\"+str(attackindex)+'.npy',newcont)"
   ]
  }
 ],
 "metadata": {
  "kernelspec": {
   "display_name": "Python 3 (ipykernel)",
   "language": "python",
   "name": "python3"
  },
  "language_info": {
   "codemirror_mode": {
    "name": "ipython",
    "version": 3
   },
   "file_extension": ".py",
   "mimetype": "text/x-python",
   "name": "python",
   "nbconvert_exporter": "python",
   "pygments_lexer": "ipython3",
   "version": "3.9.13"
  },
  "toc-autonumbering": false,
  "toc-showcode": false,
  "toc-showmarkdowntxt": true
 },
 "nbformat": 4,
 "nbformat_minor": 5
}
